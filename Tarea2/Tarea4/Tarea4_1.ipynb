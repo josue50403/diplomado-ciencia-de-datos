{
 "cells": [
  {
   "cell_type": "markdown",
   "id": "e67ecbcd-18d8-47be-9558-0b0b6a140fc7",
   "metadata": {
    "tags": []
   },
   "source": [
    "# Tarea\n",
    "Creacion de clase iterable que recibe data, la transforma internamente en Data Frame "
   ]
  },
  {
   "cell_type": "code",
   "execution_count": null,
   "id": "4652b38e-1a0f-46a2-8b40-eeb1d09bfb2b",
   "metadata": {},
   "outputs": [],
   "source": [
    "import pandas as pd\n",
    "data = pd.read_csv(\"Tarea4/iris.csv\", sep=\",\", decimal=\".\")"
   ]
  },
  {
   "cell_type": "markdown",
   "id": "166021bf-1d20-4d0f-b1ea-31c4b9af68b4",
   "metadata": {
    "tags": []
   },
   "source": [
    "## Creación de la clase iterable"
   ]
  },
  {
   "cell_type": "code",
   "execution_count": null,
   "id": "2f933724-8e5a-4adf-a16c-6dd611dc0fce",
   "metadata": {},
   "outputs": [],
   "source": [
    "class retornar(object):\n",
    "    def __init__(self, x): \n",
    "        self.data=pd.DataFrame(x)\n",
    "        self.val= x.shape[0]\n",
    "        self.contar=0\n",
    "        \n",
    "    def __iter__(self):\n",
    "        return self\n",
    "    \n",
    "    def __next__(self):\n",
    "        if self.contar > self.val:\n",
    "            print('Error')\n",
    "            raise StopIteration\n",
    "        else:\n",
    "            return_valor=self.data.iloc[self.contar:self.contar+2,]\n",
    "            self.contar+=2\n",
    "            return return_valor\n",
    "        "
   ]
  },
  {
   "cell_type": "markdown",
   "id": "8d8786c8-f8c3-475c-a499-0028be2714bc",
   "metadata": {
    "tags": []
   },
   "source": [
    "## Ejecución de la clase iterable"
   ]
  },
  {
   "cell_type": "code",
   "execution_count": null,
   "id": "75937f88-a122-4175-bc59-d743fb113119",
   "metadata": {},
   "outputs": [],
   "source": [
    "print('Empezamos')\n",
    "for i in retornar(data):\n",
    "    print(i)\n",
    "print('\\nHecha')"
   ]
  }
 ],
 "metadata": {
  "kernelspec": {
   "display_name": "Python 3 (ipykernel)",
   "language": "python",
   "name": "python3"
  },
  "language_info": {
   "codemirror_mode": {
    "name": "ipython",
    "version": 3
   },
   "file_extension": ".py",
   "mimetype": "text/x-python",
   "name": "python",
   "nbconvert_exporter": "python",
   "pygments_lexer": "ipython3",
   "version": "3.11.4"
  }
 },
 "nbformat": 4,
 "nbformat_minor": 5
}
