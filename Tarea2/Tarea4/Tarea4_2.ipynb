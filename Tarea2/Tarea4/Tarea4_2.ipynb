{
 "cells": [
  {
   "cell_type": "markdown",
   "id": "e67ecbcd-18d8-47be-9558-0b0b6a140fc7",
   "metadata": {
    "tags": []
   },
   "source": [
    "# Tarea\n",
    "Creacion de clase que recibe datos y nombre de una variable "
   ]
  },
  {
   "cell_type": "code",
   "execution_count": 1,
   "id": "4652b38e-1a0f-46a2-8b40-eeb1d09bfb2b",
   "metadata": {},
   "outputs": [],
   "source": [
    "import pandas as pd\n",
    "data = pd.read_csv(\"Tarea4/iris.csv\", sep=\",\", decimal=\".\")"
   ]
  },
  {
   "cell_type": "markdown",
   "id": "166021bf-1d20-4d0f-b1ea-31c4b9af68b4",
   "metadata": {
    "tags": []
   },
   "source": [
    "## Creación de la clase"
   ]
  },
  {
   "cell_type": "code",
   "execution_count": 56,
   "id": "2f933724-8e5a-4adf-a16c-6dd611dc0fce",
   "metadata": {},
   "outputs": [],
   "source": [
    "class informacion:\n",
    "    def __init__(self, x, variable): \n",
    "        self.data=pd.DataFrame(x)\n",
    "        self.variable=variable\n",
    "       # self.val= x.shape[0]\n",
    "       # self.contar=0\n",
    "        \n",
    "        \n",
    "    def estadistica(self):\n",
    "        estadistica=data.describe()\n",
    "        \n",
    "    def nombre(self):\n",
    "        print(data.columns)\n",
    "   #     return print(variables)\n",
    "    \n",
    "    def infEst(self):\n",
    "        print(estadistica[self.variable])\n",
    "        self.data.hist(self.variable)"
   ]
  },
  {
   "cell_type": "markdown",
   "id": "b5caa22c-48d5-4a4f-8164-a62a0515073b",
   "metadata": {},
   "source": [
    "## Creación de un objeto"
   ]
  },
  {
   "cell_type": "code",
   "execution_count": 57,
   "id": "3edba6e4-09f3-455d-9785-fcfb77b95f97",
   "metadata": {},
   "outputs": [],
   "source": [
    "f1=informacion(data, 'petal.length')"
   ]
  },
  {
   "cell_type": "markdown",
   "id": "ffce10e5-d8bd-4efc-b82c-e6eb8dcfff40",
   "metadata": {},
   "source": [
    "## Uso del metodo nombre\n",
    "Este muestra el nombre de las variables del objeto ingresado"
   ]
  },
  {
   "cell_type": "code",
   "execution_count": 59,
   "id": "8f33bf1b-4351-4b56-b04c-b0381dbc9382",
   "metadata": {},
   "outputs": [
    {
     "name": "stdout",
     "output_type": "stream",
     "text": [
      "Index(['sepal.length', 'sepal.width', 'petal.length', 'petal.width',\n",
      "       'variety'],\n",
      "      dtype='object')\n"
     ]
    }
   ],
   "source": [
    "f1.nombre()"
   ]
  },
  {
   "cell_type": "markdown",
   "id": "e5f2233b-fd64-4205-8d88-85c13df8e2a8",
   "metadata": {},
   "source": [
    "## Uso del metodo infoEst\n",
    "Nos muestra la estadistica descriptiva y el histograma de la variable ingresada"
   ]
  },
  {
   "cell_type": "code",
   "execution_count": 61,
   "id": "6d597e5c-bf8a-4659-b232-b9abed5b1ea3",
   "metadata": {},
   "outputs": [
    {
     "name": "stdout",
     "output_type": "stream",
     "text": [
      "count    150.000000\n",
      "mean       3.758000\n",
      "std        1.765298\n",
      "min        1.000000\n",
      "25%        1.600000\n",
      "50%        4.350000\n",
      "75%        5.100000\n",
      "max        6.900000\n",
      "Name: petal.length, dtype: float64\n"
     ]
    },
    {
     "data": {
      "image/png": "[encoded data removed]",
      "text/plain": [
       "<Figure size 640x480 with 1 Axes>"
      ]
     },
     "metadata": {},
     "output_type": "display_data"
    }
   ],
   "source": [
    "f1.infEst()"
   ]
  },
  {
   "cell_type": "code",
   "execution_count": null,
   "id": "75937f88-a122-4175-bc59-d743fb113119",
   "metadata": {},
   "outputs": [],
   "source": []
  }
 ],
 "metadata": {
  "kernelspec": {
   "display_name": "Python 3 (ipykernel)",
   "language": "python",
   "name": "python3"
  },
  "language_info": {
   "codemirror_mode": {
    "name": "ipython",
    "version": 3
   },
   "file_extension": ".py",
   "mimetype": "text/x-python",
   "name": "python",
   "nbconvert_exporter": "python",
   "pygments_lexer": "ipython3",
   "version": "3.11.4"
  }
 },
 "nbformat": 4,
 "nbformat_minor": 5
}
