{
 "cells": [
  {
   "attachments": {
    "8c2c54e8-85d9-4799-afda-9f9b03f9e293.jpg": {
     "image/jpeg": "[encoded data removed]"
    }
   },
   "cell_type": "markdown",
   "id": "77583995-c662-4203-b537-453ad3bec111",
   "metadata": {
    "tags": []
   },
   "source": [
    "![Loto.jpg](attachment:8c2c54e8-85d9-4799-afda-9f9b03f9e293.jpg)"
   ]
  },
  {
   "cell_type": "markdown",
   "id": "dc6c969f-6ec9-4f68-9caa-8f32f2689ad4",
   "metadata": {},
   "source": [
    "# Producto de matrices"
   ]
  },
  {
   "attachments": {
    "91771c91-b9d1-42cd-aee8-2dc216923813.jpg": {
     "image/jpeg": "[encoded data removed]"
    }
   },
   "cell_type": "markdown",
   "id": "e7d40bfb-fe2c-443c-84c4-77b2205eaadb",
   "metadata": {},
   "source": [
    "## Perfil del instructor \n",
    "![perfil.jpg](attachment:91771c91-b9d1-42cd-aee8-2dc216923813.jpg)\n",
    "\n",
    "**Mario Josue Ramos Canales** \n",
    "\n",
    "- Licenciado en Economía, Cum Laude  *(Universidad Nacional Autónoma de Honduras)*\n",
    "- Pasante de la Licenciatura de Matematicas *(Universidad Nacional Autónoma de Honduras)*\n",
    "- Analista de Inteligencia durante 4 años *(Administración Tributaria de Honduras)*\n",
    "- Asistente de Investigación en 2015 *(Instituto de Investigaciones Economicas y Sociales de la Universidad Nacional Autónoma de Honduras)*\n"
   ]
  },
  {
   "cell_type": "markdown",
   "id": "ea2776d1-849a-46f9-96c9-bf9b169f8628",
   "metadata": {},
   "source": [
    "## Multiplacacion de Matrices "
   ]
  },
  {
   "cell_type": "markdown",
   "id": "52dfe987-4212-4a72-8d89-ddd604084179",
   "metadata": {},
   "source": [
    "Con el aumento de las capacidades de computo de los ordenadores modernos, el uso practico de muchos métodos del Algebra Lineal se pueden realizar de forma mas simple. Una de estas operaciones es el producto de matrices, esta a medida el tamaño de la matriz se hace mas grandes se vuelve mas complejo. \n",
    "\n",
    "Este se defino como, dado dos matrices $A$ y $B$, tales que $A \\in \\mathbb{R}^{mxn}$ y $B \\in \\mathbb{R}^{nxp}$, la multiplicación de $A$ por $B$, que se denota por $AB$, es una matriz con $m$ filas y $p$ columnas cuya $(i,j)$-esima entrada es: \n",
    "\n",
    "$$AB_{(i,j)}= \\sum_{r=1}^{n}a_{ir}b_{rj}$$"
   ]
  },
  {
   "cell_type": "markdown",
   "id": "2cf7f786-67c0-43a4-8e9a-2905e78edc81",
   "metadata": {},
   "source": [
    "### Ejemplo con usando Numpy"
   ]
  },
  {
   "cell_type": "code",
   "execution_count": 17,
   "id": "08ca34eb-693b-49a0-8f43-1e860c291a1f",
   "metadata": {},
   "outputs": [
    {
     "name": "stdout",
     "output_type": "stream",
     "text": [
      "[[ 41  69  78]\n",
      " [ 57 101 101]\n",
      " [ 89 129 138]]\n"
     ]
    }
   ],
   "source": [
    "import numpy as np\n",
    "A=np.array([[1,2,3,7],[0,4,5,8],[7,8,9,1]])\n",
    "B=np.array([[3,1,5],[7,9,2],[1,5,9],[3,5,6]])\n",
    "AB=np.matmul(A,B)\n",
    "print(AB)"
   ]
  },
  {
   "cell_type": "markdown",
   "id": "e8f0502c-8c7d-4d6b-85f9-4d3809cdb5ca",
   "metadata": {},
   "source": [
    "### Referencia"
   ]
  },
  {
   "cell_type": "markdown",
   "id": "cee4dab8-4264-4268-b985-346e9b03cacc",
   "metadata": {},
   "source": [
    "Multiplicacion de matrices **[Wikipedia](https://es.wikipedia.org/wiki/Multiplicaci%C3%B3n_de_matrices)**"
   ]
  },
  {
   "cell_type": "markdown",
   "id": "caba2ac5-8a7a-4d24-9b96-737be91307d3",
   "metadata": {},
   "source": [
    "### Colaboración en el mejorar el contenido"
   ]
  },
  {
   "cell_type": "markdown",
   "id": "f71c6f9e-76e8-4fac-ae75-7c30eea64669",
   "metadata": {},
   "source": [
    "[![Open in colab](http:://colab.research.google.com/assets/colab-badge.svg)](https://colab.research.google.com/github/josue50403/diplomado-ciencia-de-datos/blob/main/Tarea2/Tarea2.ipynb) "
   ]
  }
 ],
 "metadata": {
  "kernelspec": {
   "display_name": "Python 3 (ipykernel)",
   "language": "python",
   "name": "python3"
  },
  "language_info": {
   "codemirror_mode": {
    "name": "ipython",
    "version": 3
   },
   "file_extension": ".py",
   "mimetype": "text/x-python",
   "name": "python",
   "nbconvert_exporter": "python",
   "pygments_lexer": "ipython3",
   "version": "3.11.4"
  }
 },
 "nbformat": 4,
 "nbformat_minor": 5
}
